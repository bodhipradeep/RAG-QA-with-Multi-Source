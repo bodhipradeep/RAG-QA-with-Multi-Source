{
 "cells": [
  {
   "cell_type": "code",
   "execution_count": 18,
   "id": "c41cead1",
   "metadata": {},
   "outputs": [],
   "source": [
    "from langchain_community.document_loaders import TextLoader, PyPDFLoader\n",
    "from langchain.text_splitter import RecursiveCharacterTextSplitter\n",
    "from langchain_community.embeddings import HuggingFaceEmbeddings\n",
    "from langchain_community.vectorstores import FAISS, Chroma\n",
    "from langchain_ollama import ChatOllama\n",
    "from langchain_experimental.agents.agent_toolkits import create_pandas_dataframe_agent\n",
    "import pandas as pd"
   ]
  },
  {
   "cell_type": "code",
   "execution_count": 19,
   "id": "6d9d1c95",
   "metadata": {},
   "outputs": [],
   "source": [
    "# load embedding model and language model\n",
    "embed_model = HuggingFaceEmbeddings(model_name=\"sentence-transformers/all-MiniLM-L6-v2\")\n",
    "\n",
    "chat_ollama = ChatOllama(model=\"llama3.1\", temperature=0, verbose=True)"
   ]
  },
  {
   "cell_type": "code",
   "execution_count": 20,
   "id": "ab64bb50",
   "metadata": {},
   "outputs": [],
   "source": [
    "# Load text file and pdf file and combine\n",
    "text_doc = TextLoader(\"data/moglix.txt\", encoding=\"utf-8\").load()\n",
    "pdf_doc = PyPDFLoader(\"data/Iphoneinvoicev.pdf\").load()\n",
    "document = text_doc + pdf_doc"
   ]
  },
  {
   "cell_type": "code",
   "execution_count": 21,
   "id": "57f9d129",
   "metadata": {},
   "outputs": [
    {
     "data": {
      "text/plain": [
       "VectorStoreRetriever(tags=['Chroma', 'HuggingFaceEmbeddings'], vectorstore=<langchain_community.vectorstores.chroma.Chroma object at 0x0000023BAC8CA750>, search_kwargs={})"
      ]
     },
     "execution_count": 21,
     "metadata": {},
     "output_type": "execute_result"
    }
   ],
   "source": [
    "# create chunk, generate embedding and vectorstore using Chroma\n",
    "splitter = RecursiveCharacterTextSplitter(chunk_size=1000, chunk_overlap=200).split_documents(document)\n",
    "vectorstore = Chroma.from_documents(splitter, embed_model)\n",
    "retriever = vectorstore.as_retriever()\n",
    "retriever"
   ]
  },
  {
   "cell_type": "code",
   "execution_count": 22,
   "id": "a02b67cc",
   "metadata": {},
   "outputs": [
    {
     "data": {
      "text/plain": [
       "[Document(metadata={'page': 0, 'total_pages': 1, 'producer': 'iText 2.0.8 (by lowagie.com)', 'source': 'data/Iphoneinvoicev.pdf', 'page_label': '1', 'moddate': '2022-02-04T17:07:27+00:00', 'creator': 'PyPDF', 'creationdate': '2022-02-04T17:07:27+00:00'}, page_content='Debigarh 2nd Lane\\nMadhyamgram, WEST BENGAL, 700129\\nIN\\nState/UT Code: 19\\nShipping Address :\\nSOUVIK HALDAR \\nSOUVIK HALDAR\\nDebigarh 2nd Lane\\nMadhyamgram, WEST BENGAL, 700129\\nIN\\nState/UT Code: 19 \\nPlace of supply: WEST BENGAL \\nPlace of delivery: WEST BENGAL'),\n",
       " Document(metadata={'page': 0, 'creator': 'PyPDF', 'page_label': '1', 'source': 'data/Iphoneinvoicev.pdf', 'total_pages': 1, 'creationdate': '2022-02-04T17:07:27+00:00', 'producer': 'iText 2.0.8 (by lowagie.com)', 'moddate': '2022-02-04T17:07:27+00:00'}, page_content='Tax Invoice/Bill of Supply/Cash Memo\\n(Original for Recipient)\\n*ASSPL-Amazon Seller Services Pvt. Ltd., ARIPL-Amazon Retail India Pvt. Ltd. (only where Amazon Retail India Pvt. Ltd. fulfillment center is co-located) \\nCustomers desirous of availing input GST credit are requested to create a Business account and purchase on Amazon.in/business from Business eligible offers \\nPlease note that this invoice is not a demand for payment\\nPage 1 of 1\\nFor Appario Retail Private Ltd:\\nAuthorized Signatory\\nOrder Number: 402-5005041-4753952 Invoice Number : CCU1-4632921\\nOrder Date: 04.02.2022 Invoice Details : WB-CCU1-1034-2122\\nInvoice Date : 04.02.2022\\nSl.\\nNo Description Unit PriceQty Net\\nAmount\\nTax\\nRate\\nTax\\nType\\nTax\\nAmount\\nTotal\\nAmount\\n1 Apple iPhone 13 (128GB) - (Product) RED |\\nB09G99CW2N ( B09G99CW2N ) \\nHSN:85171300\\n₹63,474.58 1 ₹63,474.58 9% CGST ₹5,712.71 ₹74,900.00\\n9% SGST ₹5,712.71\\nTOTAL: ₹11,425.42₹74,900.00\\nAmount in Words:\\nSeventy-four Thousand Nine Hundred only'),\n",
       " Document(metadata={'page_label': '1', 'total_pages': 1, 'creationdate': '2022-02-04T17:07:27+00:00', 'producer': 'iText 2.0.8 (by lowagie.com)', 'page': 0, 'moddate': '2022-02-04T17:07:27+00:00', 'creator': 'PyPDF', 'source': 'data/Iphoneinvoicev.pdf'}, page_content='Tax Invoice/Bill of Supply/Cash Memo\\n(Original for Recipient)\\n*ASSPL-Amazon Seller Services Pvt. Ltd., ARIPL-Amazon Retail India Pvt. Ltd. (only where Amazon Retail India Pvt. Ltd. fulfillment center is co-located) \\nCustomers desirous of availing input GST credit are requested to create a Business account and purchase on Amazon.in/business from Business eligible offers \\nPlease note that this invoice is not a demand for payment\\nPage 1 of 1\\nFor Appario Retail Private Ltd:\\nAuthorized Signatory\\nOrder Number: 402-5005041-4753952 Invoice Number : CCU1-4632921\\nOrder Date: 04.02.2022 Invoice Details : WB-CCU1-1034-2122\\nInvoice Date : 04.02.2022\\nSl.\\nNo Description Unit PriceQty Net\\nAmount\\nTax\\nRate\\nTax\\nType\\nTax\\nAmount\\nTotal\\nAmount\\n1 Apple iPhone 13 (128GB) - (Product) RED |\\nB09G99CW2N ( B09G99CW2N ) \\nHSN:85171300\\n₹63,474.58 1 ₹63,474.58 9% CGST ₹5,712.71 ₹74,900.00\\n9% SGST ₹5,712.71\\nTOTAL: ₹11,425.42₹74,900.00\\nAmount in Words:\\nSeventy-four Thousand Nine Hundred only'),\n",
       " Document(metadata={'source': 'data/moglix.txt'}, page_content='Rishabh Agarwal\\nSenior Vice President\\n\\nSanjeev Arora\\nChief Financial Officer\\n\\nPramit Joshi\\nSenior Director\\n\\nYash Mahendra\\nVice President, Enterprise - USA\\n\\nGenette Herrera\\nMexico Leader\\n\\nAn ISO certified company\\nInstant approval, quick disbursal\\nMinimal documentation, no hard collateral\\n100% visibility, digital dashboards\\nFCI Member')]"
      ]
     },
     "execution_count": 22,
     "metadata": {},
     "output_type": "execute_result"
    }
   ],
   "source": [
    "# retriever example for similarity search  \n",
    "retriever.get_relevant_documents(\"Iphone details\")"
   ]
  },
  {
   "cell_type": "code",
   "execution_count": 23,
   "id": "233798b9",
   "metadata": {},
   "outputs": [],
   "source": [
    "from langchain.chains.combine_documents import create_stuff_documents_chain\n",
    "from langchain_core.prompts import ChatPromptTemplate\n",
    "from langchain.chains import create_retrieval_chain\n",
    "\n",
    "# General prompt to control llm behaviour\n",
    "prompt=ChatPromptTemplate.from_template(\n",
    "\"\"\"\n",
    "Answer the questions based on the provided context only.\n",
    "Please provide the most accurate response based on the question\n",
    "<context>\n",
    "{context}\n",
    "<context>\n",
    "Questions:{input}\n",
    "\n",
    "\"\"\"\n",
    ")"
   ]
  },
  {
   "cell_type": "code",
   "execution_count": 24,
   "id": "4ad6150c",
   "metadata": {},
   "outputs": [],
   "source": [
    "# creating retrievel chain with llm to generate meaningful answer.\n",
    "document_chain = create_stuff_documents_chain(chat_ollama, prompt)\n",
    "retrieval_chain = create_retrieval_chain(retriever, document_chain)"
   ]
  },
  {
   "cell_type": "code",
   "execution_count": 25,
   "id": "64a53629",
   "metadata": {},
   "outputs": [
    {
     "data": {
      "text/plain": [
       "{'input': 'who is rahul garg',\n",
       " 'context': [Document(metadata={'source': 'data/moglix.txt'}, page_content=\"Building on Moglix's unique full-stack operating system for B2B commerce, we at Credlix, offer a bespoke digital supply chain finance solution that brings together anchor enterprises, suppliers, exporters, and lenders to keep domestic supply chain and export finance moving all time.\\n\\nOur people are led by our executive leadership team at Credlix. We are innovators in action who deliver tech-led finance to the complete B2B commerce and manufacturing supply chain.\\n\\nMeet the Team\\nAt Credlix, our executive leadership team brings along the strong experience of having worked in top technology, finance, and manufacturing companies to transform the way buyers, sellers, and exporters access working capital through automation in finance.\\n\\nRahul Garg\\nCEO & Founder\\n\\nRishabh Agarwal\\nSenior Vice President\\n\\nSanjeev Arora\\nChief Financial Officer\\n\\nPramit Joshi\\nSenior Director\\n\\nYash Mahendra\\nVice President, Enterprise - USA\\n\\nGenette Herrera\\nMexico Leader\"),\n",
       "  Document(metadata={'source': 'data/moglix.txt'}, page_content=\"Building on Moglix's unique full-stack operating system for B2B commerce, we at Credlix, offer a bespoke digital supply chain finance solution that brings together anchor enterprises, suppliers, exporters, and lenders to keep domestic supply chain and export finance moving all time.\\n\\nOur people are led by our executive leadership team at Credlix. We are innovators in action who deliver tech-led finance to the complete B2B commerce and manufacturing supply chain.\\n\\nMeet the Team\\nAt Credlix, our executive leadership team brings along the strong experience of having worked in top technology, finance, and manufacturing companies to transform the way buyers, sellers, and exporters access working capital through automation in finance.\\n\\nRahul Garg\\nCEO & Founder\\n\\nRishabh Agarwal\\nSenior Vice President\\n\\nSanjeev Arora\\nChief Financial Officer\\n\\nPramit Joshi\\nSenior Director\\n\\nYash Mahendra\\nVice President, Enterprise - USA\\n\\nGenette Herrera\\nMexico Leader\"),\n",
       "  Document(metadata={'source': 'data/moglix.txt'}, page_content='Rishabh Agarwal\\nSenior Vice President\\n\\nSanjeev Arora\\nChief Financial Officer\\n\\nPramit Joshi\\nSenior Director\\n\\nYash Mahendra\\nVice President, Enterprise - USA\\n\\nGenette Herrera\\nMexico Leader\\n\\nAn ISO certified company\\nInstant approval, quick disbursal\\nMinimal documentation, no hard collateral\\n100% visibility, digital dashboards\\nFCI Member'),\n",
       "  Document(metadata={'page_label': '1', 'moddate': '2022-02-04T17:07:27+00:00', 'source': 'data/Iphoneinvoicev.pdf', 'creator': 'PyPDF', 'total_pages': 1, 'producer': 'iText 2.0.8 (by lowagie.com)', 'creationdate': '2022-02-04T17:07:27+00:00', 'page': 0}, page_content='B09G99CW2N ( B09G99CW2N ) \\nHSN:85171300\\n₹63,474.58 1 ₹63,474.58 9% CGST ₹5,712.71 ₹74,900.00\\n9% SGST ₹5,712.71\\nTOTAL: ₹11,425.42₹74,900.00\\nAmount in Words:\\nSeventy-four Thousand Nine Hundred only\\nWhether tax is payable under reverse charge - No\\nPayment Transaction ID: \\n1111pTJZ5YlpmUQYLGIOWSprZ\\nDate & Time: 04/02/2022, 10:15:39\\nhrs Invoice Value: \\n74,900.00\\nMode of Payment: \\nPromotion\\nPayment Transaction ID: 2g8zPAG19O2FAJs8X8GD Date & Time: 04/02/2022, 10:15:30\\nhrs\\nMode of Payment: Credit\\nCard\\nSold By :\\nAppario Retail Private Ltd\\n* Building No. CCU1, Mouza, Amraberia,Phase 2:\\nESR Warehousing Pvt Ltd, Vill : Amraberia,\\nRajapur, Joargori Gram Panchayet, Uluberia, Dist.\\nHowrah\\nHowrah, WEST BENGAL, 711303\\nIN\\nPAN No: AALCA0171E\\nGST Registration No: 19AALCA0171E1ZW\\nBilling Address :\\nSOUVIK HALDAR\\nDebigarh 2nd Lane\\nMadhyamgram, WEST BENGAL, 700129\\nIN\\nState/UT Code: 19\\nShipping Address :\\nSOUVIK HALDAR \\nSOUVIK HALDAR\\nDebigarh 2nd Lane\\nMadhyamgram, WEST BENGAL, 700129\\nIN\\nState/UT Code: 19')],\n",
       " 'answer': 'Rahul Garg is the CEO & Founder of Credlix.'}"
      ]
     },
     "execution_count": 25,
     "metadata": {},
     "output_type": "execute_result"
    }
   ],
   "source": [
    "# Simple Example\n",
    "retrieval_chain.invoke({\"input\":\"who is rahul garg\"})"
   ]
  },
  {
   "cell_type": "code",
   "execution_count": 26,
   "id": "c09ed83d",
   "metadata": {},
   "outputs": [
    {
     "name": "stdout",
     "output_type": "stream",
     "text": [
      "who is rahul garg\n",
      "Rahul Garg is the CEO & Founder of Credlix.\n"
     ]
    }
   ],
   "source": [
    "# Simple Example\n",
    "result = retrieval_chain.invoke({\"input\":\"who is rahul garg\"})\n",
    "print(result['input'])\n",
    "print(result['answer'])"
   ]
  },
  {
   "cell_type": "code",
   "execution_count": 27,
   "id": "4e591516",
   "metadata": {},
   "outputs": [
    {
     "name": "stdout",
     "output_type": "stream",
     "text": [
      "Based on the provided context, it appears that Moglix (also referred to as Credlix) operates a B2B e-commerce platform for industrial supplies. Their business model can be summarized as follows:\n",
      "\n",
      "1. **Digital Supply Chain Solutions**: Moglix provides a digital platform for manufacturers and suppliers to connect, source, and manage their procurement needs.\n",
      "2. **Online Marketplace**: They have an extensive online marketplace with over 8,00,000 products from various sellers, offering nationwide delivery to more than 25,000+ PIN codes.\n",
      "3. **Supply Chain Finance**: Credlix (a part of Moglix) offers tech-led global supply chain finance solutions, integrating intelligent financial technology to reimagine cash-flow lending for manufacturers across the globe.\n",
      "\n",
      "Their business model seems to be focused on:\n",
      "\n",
      "* Providing a digital platform for B2B commerce\n",
      "* Offering a wide range of industrial supplies from various sellers\n",
      "* Enabling nationwide delivery and secure payment options\n",
      "* Integrating supply chain finance solutions to support manufacturers\n",
      "\n",
      "This is a general outline based on the provided context, and there might be additional aspects to their business model not mentioned here.\n"
     ]
    }
   ],
   "source": [
    "# Final Answer: Example\n",
    "result = retrieval_chain.invoke({\"input\":\"what is mogix business model\"})\n",
    "print(result['answer'])"
   ]
  },
  {
   "cell_type": "code",
   "execution_count": null,
   "id": "643663cd",
   "metadata": {},
   "outputs": [],
   "source": []
  },
  {
   "cell_type": "code",
   "execution_count": null,
   "id": "a61d586e",
   "metadata": {},
   "outputs": [],
   "source": []
  },
  {
   "cell_type": "code",
   "execution_count": null,
   "id": "0a088d6d",
   "metadata": {},
   "outputs": [],
   "source": []
  },
  {
   "cell_type": "code",
   "execution_count": null,
   "id": "20fde636",
   "metadata": {},
   "outputs": [],
   "source": []
  },
  {
   "cell_type": "code",
   "execution_count": null,
   "id": "a24e4fff",
   "metadata": {},
   "outputs": [],
   "source": []
  },
  {
   "cell_type": "code",
   "execution_count": 28,
   "id": "a877a39c",
   "metadata": {},
   "outputs": [],
   "source": [
    "csv_path = r'C:\\Users\\Pradeep\\Desktop\\Data\\AI_Test\\Agentic_RAG\\Test\\customer_booking.csv'\n",
    "\n",
    "try:\n",
    "    df = pd.read_csv(csv_path, encoding='utf-8')\n",
    "except UnicodeDecodeError:\n",
    "    df = pd.read_csv(csv_path, encoding='cp1252')\n",
    "\n",
    "csv_agent = create_pandas_dataframe_agent(llm=chat_ollama, df=df, verbose=True, allow_dangerous_code=True)"
   ]
  },
  {
   "cell_type": "code",
   "execution_count": 29,
   "id": "b9ad3c0e",
   "metadata": {},
   "outputs": [
    {
     "name": "stdout",
     "output_type": "stream",
     "text": [
      "\n",
      "\n",
      "\u001b[1m> Entering new AgentExecutor chain...\u001b[0m\n",
      "\u001b[32;1m\u001b[1;3mThought: I need to find the number of rows and columns in the dataframe.\n",
      "Action: python_repl_ast\n",
      "Action Input: print(df.shape)\u001b[0m\u001b[36;1m\u001b[1;3m(50000, 14)\n",
      "\u001b[0m\u001b[32;1m\u001b[1;3mThought: Now that I know the shape of the dataframe, I can answer the question about the number of rows and columns.\n",
      "\n",
      "Final Answer: The dataframe has 50,000 rows and 14 columns.\u001b[0m\n",
      "\n",
      "\u001b[1m> Finished chain.\u001b[0m\n"
     ]
    },
    {
     "data": {
      "text/plain": [
       "'The dataframe has 50,000 rows and 14 columns.'"
      ]
     },
     "execution_count": 29,
     "metadata": {},
     "output_type": "execute_result"
    }
   ],
   "source": [
    "csv_agent.run(\"How many rows and columns are in this csv\")"
   ]
  },
  {
   "cell_type": "code",
   "execution_count": null,
   "id": "5999f5b2",
   "metadata": {},
   "outputs": [],
   "source": []
  },
  {
   "cell_type": "code",
   "execution_count": null,
   "id": "db53ed51",
   "metadata": {},
   "outputs": [],
   "source": []
  },
  {
   "cell_type": "code",
   "execution_count": null,
   "id": "efbd0777",
   "metadata": {},
   "outputs": [],
   "source": []
  }
 ],
 "metadata": {
  "kernelspec": {
   "display_name": "venv",
   "language": "python",
   "name": "python3"
  },
  "language_info": {
   "codemirror_mode": {
    "name": "ipython",
    "version": 3
   },
   "file_extension": ".py",
   "mimetype": "text/x-python",
   "name": "python",
   "nbconvert_exporter": "python",
   "pygments_lexer": "ipython3",
   "version": "3.11.9"
  }
 },
 "nbformat": 4,
 "nbformat_minor": 5
}
